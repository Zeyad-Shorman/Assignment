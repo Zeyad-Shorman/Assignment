{
 "cells": [
  {
   "cell_type": "markdown",
   "id": "ada659a5-3ff8-494a-ae9a-20c784b92797",
   "metadata": {
    "tags": []
   },
   "source": [
    "# Data Science Tools and Ecosystem"
   ]
  },
  {
   "cell_type": "markdown",
   "id": "ae8ed076-8d48-4a90-9f42-a9d4b6d404c5",
   "metadata": {},
   "source": [
    "In this notebook, data science tools and ecosystem are summarized. "
   ]
  },
  {
   "cell_type": "markdown",
   "id": "6e207226-3026-4101-ae7a-8331a73e839e",
   "metadata": {},
   "source": [
    "Some of the commonly used libraries used by Data Scientists include:\n",
    "\n",
    "1. SQL\n",
    "2. R\n",
    "3. Python"
   ]
  },
  {
   "cell_type": "markdown",
   "id": "85a24fed-95dd-4cfc-9861-24f6d39f8f82",
   "metadata": {},
   "source": [
    "Some of the commonly used libraries used by Data Scientists include:\n",
    "\n",
    "1. Matplotlib\n",
    "2. Seaborn\n",
    "3. Tensorflow\n",
    "4. Pandas\n",
    "5. Numpy.\n",
    "6. Scipy\n"
   ]
  },
  {
   "cell_type": "markdown",
   "id": "6a58c0c2-828b-4494-abb4-18ab90ea812b",
   "metadata": {},
   "source": [
    "| Data Science Tool | \n",
    "| :----------------:|\n",
    "| Rstudio | \n",
    "| Apache Spark | \n",
    "| Apache Hadoop |"
   ]
  },
  {
   "cell_type": "markdown",
   "id": "6407f895-1bd6-4857-b365-c1d2d17a9f2a",
   "metadata": {},
   "source": [
    "### Below are a few examples of evaluating arithmetic expressions in Python"
   ]
  },
  {
   "cell_type": "code",
   "execution_count": 6,
   "id": "bda36c81-0472-4993-b34f-f0b49bfb7862",
   "metadata": {
    "tags": []
   },
   "outputs": [
    {
     "name": "stdout",
     "output_type": "stream",
     "text": [
      "17\n"
     ]
    }
   ],
   "source": [
    "# This a simple arithmetic expression to mutiply then add integers.\n",
    "x = (3*4)+5\n",
    "print(x)\n"
   ]
  },
  {
   "cell_type": "code",
   "execution_count": 7,
   "id": "aefbe682-ca8b-4b3c-9f98-fa6d24ba9565",
   "metadata": {
    "tags": []
   },
   "outputs": [
    {
     "name": "stdout",
     "output_type": "stream",
     "text": [
      "3.3333333333333335\n"
     ]
    }
   ],
   "source": [
    "# This will convert 200 minutes to hours by diving by 60.\n",
    "minutes = 200\n",
    "hours = minutes/60\n",
    "print(hours)\n"
   ]
  },
  {
   "cell_type": "markdown",
   "id": "fe7e98ac-93a7-4951-84dc-98bd84683c00",
   "metadata": {},
   "source": [
    "**Objective:** List popular languages for Data Science.\n",
    "+ Python\n",
    "+ R\n",
    "+ SQL"
   ]
  },
  {
   "cell_type": "markdown",
   "id": "3337ab23-dc95-4624-9d3e-ce6cbe30a2c7",
   "metadata": {},
   "source": [
    "## Author\n",
    "Name : Zeyad Shorman"
   ]
  },
  {
   "cell_type": "code",
   "execution_count": null,
   "id": "a3771981-ca50-47a8-b6a1-f07b097be9a9",
   "metadata": {},
   "outputs": [],
   "source": []
  }
 ],
 "metadata": {
  "kernelspec": {
   "display_name": "Python",
   "language": "python",
   "name": "conda-env-python-py"
  },
  "language_info": {
   "codemirror_mode": {
    "name": "ipython",
    "version": 3
   },
   "file_extension": ".py",
   "mimetype": "text/x-python",
   "name": "python",
   "nbconvert_exporter": "python",
   "pygments_lexer": "ipython3",
   "version": "3.7.12"
  }
 },
 "nbformat": 4,
 "nbformat_minor": 5
}
